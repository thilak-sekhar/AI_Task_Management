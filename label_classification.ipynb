{
 "cells": [
  {
   "cell_type": "code",
   "execution_count": 2,
   "id": "1b5a75fd-6743-4ccc-b4f3-76bdf8a4a212",
   "metadata": {},
   "outputs": [],
   "source": [
    "import os\n",
    "import numpy as np\n",
    "import pandas as pd\n",
    "from sklearn.model_selection import train_test_split\n",
    "from sklearn.preprocessing import LabelEncoder\n",
    "from sklearn.naive_bayes import GaussianNB\n",
    "from sklearn.svm import SVC\n",
    "from sklearn.metrics import accuracy_score, precision_score, recall_score"
   ]
  },
  {
   "cell_type": "code",
   "execution_count": 13,
   "id": "f0d33799-9f43-44e6-86a9-508c92435646",
   "metadata": {},
   "outputs": [],
   "source": [
    "os.chdir(r\"C:\\Users\\thila\\Downloads\\AI_TASK\")\n",
    "synthetic_df = pd.read_csv(\"Synthetic Data.csv\")\n",
    "title_emb_df = pd.read_csv(\"title_embeddings.csv\")\n",
    "desc_emb_df = pd.read_csv(\"description_embeddings.csv\")"
   ]
  },
  {
   "cell_type": "code",
   "execution_count": 15,
   "id": "9bdf86ab-715b-4fcf-af66-ebf9d3261dd6",
   "metadata": {},
   "outputs": [
    {
     "data": {
      "text/plain": [
       "(500, 768)"
      ]
     },
     "execution_count": 15,
     "metadata": {},
     "output_type": "execute_result"
    }
   ],
   "source": [
    "combined_embeddings = pd.concat([title_emb_df, desc_emb_df], axis=1).values  # shape: (n_samples, title_dim + desc_dim)\n",
    "label_encoder = LabelEncoder()\n",
    "y = label_encoder.fit_transform(synthetic_df[\"Label\"].astype(str))\n",
    "X_train, X_test, y_train, y_test = train_test_split(\n",
    "    combined_embeddings, y, test_size=0.2, random_state=42, stratify=y\n",
    ")\n",
    "X_train.shape\n",
    "combined_embeddings.shape"
   ]
  },
  {
   "cell_type": "code",
   "execution_count": 8,
   "id": "0ef70c86-47cd-4a5c-95e7-12b87dc2c396",
   "metadata": {},
   "outputs": [
    {
     "name": "stdout",
     "output_type": "stream",
     "text": [
      "Accuracy: 0.9400\n",
      "Precision: 0.9521\n",
      "Recall: 0.9400\n"
     ]
    }
   ],
   "source": [
    "nb_model = GaussianNB()\n",
    "nb_model.fit(X_train, y_train)\n",
    "nb_preds = nb_model.predict(X_test)\n",
    "nb_accuracy = accuracy_score(y_test, nb_preds)\n",
    "nb_precision = precision_score(y_test, nb_preds, average='weighted', zero_division=0)\n",
    "nb_recall = recall_score(y_test, nb_preds, average='weighted', zero_division=0)\n",
    "print(f\"Accuracy: {nb_accuracy:.4f}\")\n",
    "print(f\"Precision: {nb_precision:.4f}\")\n",
    "print(f\"Recall: {nb_recall:.4f}\")"
   ]
  },
  {
   "cell_type": "code",
   "execution_count": 9,
   "id": "b1565682-520e-4028-ad53-5519c8e427cb",
   "metadata": {},
   "outputs": [
    {
     "name": "stdout",
     "output_type": "stream",
     "text": [
      "Accuracy: 0.9600\n",
      "Precision: 0.9643\n",
      "Recall: 0.9600\n"
     ]
    }
   ],
   "source": [
    "svm_model = SVC(kernel='rbf', C=1.0, gamma='scale', probability=True)\n",
    "svm_model.fit(X_train, y_train)\n",
    "svm_preds = svm_model.predict(X_test)\n",
    "svm_accuracy = accuracy_score(y_test, svm_preds)\n",
    "svm_precision = precision_score(y_test, svm_preds, average='weighted', zero_division=0)\n",
    "svm_recall = recall_score(y_test, svm_preds, average='weighted', zero_division=0)\n",
    "print(f\"Accuracy: {svm_accuracy:.4f}\")\n",
    "print(f\"Precision: {svm_precision:.4f}\")\n",
    "print(f\"Recall: {svm_recall:.4f}\")\n"
   ]
  },
  {
   "cell_type": "code",
   "execution_count": 13,
   "id": "0e315b8d-2b34-4f62-8b89-65fd7182412e",
   "metadata": {},
   "outputs": [],
   "source": [
    "import pickle\n",
    "with open('label_classification.pkl', 'wb') as f:\n",
    "    pickle.dump(svm_model, f)"
   ]
  },
  {
   "cell_type": "code",
   "execution_count": null,
   "id": "68a2ca9e-b01e-43f5-833a-6ed6d74a07a5",
   "metadata": {},
   "outputs": [],
   "source": []
  }
 ],
 "metadata": {
  "kernelspec": {
   "display_name": "Python 3 (ipykernel)",
   "language": "python",
   "name": "python3"
  },
  "language_info": {
   "codemirror_mode": {
    "name": "ipython",
    "version": 3
   },
   "file_extension": ".py",
   "mimetype": "text/x-python",
   "name": "python",
   "nbconvert_exporter": "python",
   "pygments_lexer": "ipython3",
   "version": "3.13.5"
  }
 },
 "nbformat": 4,
 "nbformat_minor": 5
}
