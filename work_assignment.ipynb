{
 "cells": [
  {
   "cell_type": "code",
   "execution_count": 12,
   "id": "49eed152-d76a-4abb-bf48-1c15eda944c1",
   "metadata": {},
   "outputs": [
    {
     "name": "stdout",
     "output_type": "stream",
     "text": [
      "Task should be assigned to: Cody\n",
      "Current workload: 1\n",
      "Next due date: 2025-11-07\n"
     ]
    },
    {
     "name": "stderr",
     "output_type": "stream",
     "text": [
      "C:\\Users\\thila\\AppData\\Local\\Temp\\ipykernel_22660\\2547581146.py:4: UserWarning: Parsing dates in %d-%m-%Y format when dayfirst=False (the default) was specified. Pass `dayfirst=True` or specify a format to silence this warning.\n",
      "  data['DueDate'] = pd.to_datetime(data['DueDate'], errors='coerce')\n"
     ]
    },
    {
     "data": {
      "text/plain": [
       "'Cody'"
      ]
     },
     "execution_count": 12,
     "metadata": {},
     "output_type": "execute_result"
    }
   ],
   "source": [
    "import pandas as pd\n",
    "from datetime import datetime\n",
    "data = pd.read_csv(\"Synthetic Data.csv\")\n",
    "data['DueDate'] = pd.to_datetime(data['DueDate'], errors='coerce')\n",
    "data['CreatedAt'] = pd.to_datetime(data['CreatedAt'], errors='coerce')\n",
    "data = data.dropna(subset=['DueDate', 'Workload'])\n",
    "def assign_task(data):\n",
    "    sorted_df = data.sort_values(by=['Workload', 'DueDate'], ascending=[True, False])\n",
    "    best_assignee = sorted_df.iloc[0]['Assignee']\n",
    "    best_workload = sorted_df.iloc[0]['Workload']\n",
    "    best_due = sorted_df.iloc[0]['DueDate']\n",
    "    print(f\"Task should be assigned to: {best_assignee}\")\n",
    "    print(f\"Current workload: {best_workload}\")\n",
    "    print(f\"Next due date: {best_due.date() if pd.notna(best_due) else 'N/A'}\")\n",
    "    return best_assignee\n",
    "assign_task(data)"
   ]
  },
  {
   "cell_type": "code",
   "execution_count": null,
   "id": "c82cdaf7-7179-4982-ab58-76677fb028df",
   "metadata": {},
   "outputs": [],
   "source": []
  }
 ],
 "metadata": {
  "kernelspec": {
   "display_name": "Python 3 (ipykernel)",
   "language": "python",
   "name": "python3"
  },
  "language_info": {
   "codemirror_mode": {
    "name": "ipython",
    "version": 3
   },
   "file_extension": ".py",
   "mimetype": "text/x-python",
   "name": "python",
   "nbconvert_exporter": "python",
   "pygments_lexer": "ipython3",
   "version": "3.13.5"
  }
 },
 "nbformat": 4,
 "nbformat_minor": 5
}
