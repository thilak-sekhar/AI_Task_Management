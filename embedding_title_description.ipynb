{
 "cells": [
  {
   "cell_type": "code",
   "execution_count": 32,
   "id": "a5f9141d-cc1b-48d7-bf3d-36511b89566a",
   "metadata": {},
   "outputs": [
    {
     "data": {
      "application/vnd.jupyter.widget-view+json": {
       "model_id": "7375b221b2924f1d94b4c487014e02c9",
       "version_major": 2,
       "version_minor": 0
      },
      "text/plain": [
       "Batches:   0%|          | 0/16 [00:00<?, ?it/s]"
      ]
     },
     "metadata": {},
     "output_type": "display_data"
    },
    {
     "data": {
      "application/vnd.jupyter.widget-view+json": {
       "model_id": "4b9d1ca5acdf40aea930c7c95dcb4d94",
       "version_major": 2,
       "version_minor": 0
      },
      "text/plain": [
       "Batches:   0%|          | 0/16 [00:00<?, ?it/s]"
      ]
     },
     "metadata": {},
     "output_type": "display_data"
    }
   ],
   "source": [
    "import os\n",
    "import pandas as pd\n",
    "from sentence_transformers import SentenceTransformer\n",
    "os.chdir(\"C://Users//thila//Downloads//AI_TASK\")\n",
    "data = pd.read_csv('data.csv')\n",
    "df = pd.read_csv('Synthetic Data.csv')\n",
    "model = SentenceTransformer('all-MiniLM-L6-v2')\n",
    "des_vec = model.encode(data[\"clean_text\"].astype(str).tolist(), show_progress_bar=True)\n",
    "tit_vec = model.encode(df[\"Title\"].astype(str).tolist(), show_progress_bar=True)\n",
    "des_emb_df = pd.DataFrame(des_vec)\n",
    "tit_emb_df = pd.DataFrame(tit_vec)\n",
    "des_emb_df.to_csv(\"description_embeddings.csv\", index=False)\n",
    "tit_emb_df.to_csv(\"title_embeddings.csv\", index=False)"
   ]
  }
 ],
 "metadata": {
  "kernelspec": {
   "display_name": "Python 3 (ipykernel)",
   "language": "python",
   "name": "python3"
  },
  "language_info": {
   "codemirror_mode": {
    "name": "ipython",
    "version": 3
   },
   "file_extension": ".py",
   "mimetype": "text/x-python",
   "name": "python",
   "nbconvert_exporter": "python",
   "pygments_lexer": "ipython3",
   "version": "3.13.5"
  }
 },
 "nbformat": 4,
 "nbformat_minor": 5
}
